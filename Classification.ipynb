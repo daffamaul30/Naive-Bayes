{
  "nbformat": 4,
  "nbformat_minor": 0,
  "metadata": {
    "colab": {
      "name": "Classification.ipynb",
      "provenance": [],
      "authorship_tag": "ABX9TyNZQ/8Yzd6v19ivo2cykr1Q",
      "include_colab_link": true
    },
    "kernelspec": {
      "name": "python3",
      "display_name": "Python 3"
    }
  },
  "cells": [
    {
      "cell_type": "markdown",
      "metadata": {
        "id": "view-in-github",
        "colab_type": "text"
      },
      "source": [
        "<a href=\"https://colab.research.google.com/github/daffamaul30/Naive-Bayes/blob/master/Classification.ipynb\" target=\"_parent\"><img src=\"https://colab.research.google.com/assets/colab-badge.svg\" alt=\"Open In Colab\"/></a>"
      ]
    },
    {
      "cell_type": "code",
      "metadata": {
        "id": "l8lS7WBCbjGC",
        "colab_type": "code",
        "colab": {}
      },
      "source": [
        "import seaborn as sn\n",
        "import pandas as pd\n",
        "from sklearn.model_selection import train_test_split\n",
        "from sklearn.naive_bayes import GaussianNB\n",
        "from sklearn import metrics"
      ],
      "execution_count": 0,
      "outputs": []
    },
    {
      "cell_type": "markdown",
      "metadata": {
        "id": "C9Vz8GrkRwuA",
        "colab_type": "text"
      },
      "source": [
        "## Mount & Read File From Drive"
      ]
    },
    {
      "cell_type": "markdown",
      "metadata": {
        "id": "T8Jg7PA9R1w2",
        "colab_type": "text"
      },
      "source": [
        "Bisa dirubah jika tidak ingin membaca file dari drive dengan :\n",
        "\n",
        "\n",
        "dataset = pd.read_csv(\"path or filename(jika dalam satu folder)\")\n"
      ]
    },
    {
      "cell_type": "code",
      "metadata": {
        "id": "Ue1faIn6tlXO",
        "colab_type": "code",
        "outputId": "6b9ba766-c322-4cf9-da55-341f13642462",
        "colab": {
          "base_uri": "https://localhost:8080/",
          "height": 34
        }
      },
      "source": [
        "from google.colab import drive \n",
        "drive.mount('/content/gdrive')\n",
        "dataset = pd.read_csv(\"gdrive/My Drive/Colab Notebooks/fifa20.csv\")"
      ],
      "execution_count": 13,
      "outputs": [
        {
          "output_type": "stream",
          "text": [
            "Drive already mounted at /content/gdrive; to attempt to forcibly remount, call drive.mount(\"/content/gdrive\", force_remount=True).\n"
          ],
          "name": "stdout"
        }
      ]
    },
    {
      "cell_type": "markdown",
      "metadata": {
        "id": "HNz1te1L_uyi",
        "colab_type": "text"
      },
      "source": [
        "## Mengambil kolom/fitur yang diperlukan saja. Berdasarkan Data Exploration"
      ]
    },
    {
      "cell_type": "code",
      "metadata": {
        "id": "ekPLnKnd_UKJ",
        "colab_type": "code",
        "colab": {}
      },
      "source": [
        "dataset = dataset[['skill_dribbling','skill_curve','skill_ball_control','skill_moves']]"
      ],
      "execution_count": 0,
      "outputs": []
    },
    {
      "cell_type": "code",
      "metadata": {
        "id": "AxiiNOkskFrZ",
        "colab_type": "code",
        "outputId": "0dab8bc2-093b-4586-f4a9-895a1d06d09d",
        "colab": {
          "base_uri": "https://localhost:8080/",
          "height": 195
        }
      },
      "source": [
        "dataset.head()"
      ],
      "execution_count": 15,
      "outputs": [
        {
          "output_type": "execute_result",
          "data": {
            "text/html": [
              "<div>\n",
              "<style scoped>\n",
              "    .dataframe tbody tr th:only-of-type {\n",
              "        vertical-align: middle;\n",
              "    }\n",
              "\n",
              "    .dataframe tbody tr th {\n",
              "        vertical-align: top;\n",
              "    }\n",
              "\n",
              "    .dataframe thead th {\n",
              "        text-align: right;\n",
              "    }\n",
              "</style>\n",
              "<table border=\"1\" class=\"dataframe\">\n",
              "  <thead>\n",
              "    <tr style=\"text-align: right;\">\n",
              "      <th></th>\n",
              "      <th>skill_dribbling</th>\n",
              "      <th>skill_curve</th>\n",
              "      <th>skill_ball_control</th>\n",
              "      <th>skill_moves</th>\n",
              "    </tr>\n",
              "  </thead>\n",
              "  <tbody>\n",
              "    <tr>\n",
              "      <th>0</th>\n",
              "      <td>97</td>\n",
              "      <td>93</td>\n",
              "      <td>96</td>\n",
              "      <td>4</td>\n",
              "    </tr>\n",
              "    <tr>\n",
              "      <th>1</th>\n",
              "      <td>89</td>\n",
              "      <td>81</td>\n",
              "      <td>92</td>\n",
              "      <td>5</td>\n",
              "    </tr>\n",
              "    <tr>\n",
              "      <th>2</th>\n",
              "      <td>96</td>\n",
              "      <td>88</td>\n",
              "      <td>95</td>\n",
              "      <td>5</td>\n",
              "    </tr>\n",
              "    <tr>\n",
              "      <th>3</th>\n",
              "      <td>12</td>\n",
              "      <td>13</td>\n",
              "      <td>30</td>\n",
              "      <td>1</td>\n",
              "    </tr>\n",
              "    <tr>\n",
              "      <th>4</th>\n",
              "      <td>95</td>\n",
              "      <td>83</td>\n",
              "      <td>94</td>\n",
              "      <td>4</td>\n",
              "    </tr>\n",
              "  </tbody>\n",
              "</table>\n",
              "</div>"
            ],
            "text/plain": [
              "   skill_dribbling  skill_curve  skill_ball_control  skill_moves\n",
              "0               97           93                  96            4\n",
              "1               89           81                  92            5\n",
              "2               96           88                  95            5\n",
              "3               12           13                  30            1\n",
              "4               95           83                  94            4"
            ]
          },
          "metadata": {
            "tags": []
          },
          "execution_count": 15
        }
      ]
    },
    {
      "cell_type": "markdown",
      "metadata": {
        "id": "Wj-LPb1RSTWA",
        "colab_type": "text"
      },
      "source": [
        "## Penentuan Label"
      ]
    },
    {
      "cell_type": "markdown",
      "metadata": {
        "id": "WpDX9MWwSW-J",
        "colab_type": "text"
      },
      "source": [
        "menjadikan kolom \"skill_moves\" menjadi label"
      ]
    },
    {
      "cell_type": "code",
      "metadata": {
        "id": "WKtsDsUClJTc",
        "colab_type": "code",
        "colab": {}
      },
      "source": [
        "#skill_moves sbg label\n",
        "label = dataset['skill_moves'].tolist()\n",
        "dataset = dataset.drop(columns=['skill_moves'])\n",
        "# print(dataset)"
      ],
      "execution_count": 0,
      "outputs": []
    },
    {
      "cell_type": "markdown",
      "metadata": {
        "id": "4U6ZI4uzSfjP",
        "colab_type": "text"
      },
      "source": [
        "## Split Menjadi Train dan Test"
      ]
    },
    {
      "cell_type": "markdown",
      "metadata": {
        "id": "vksLVyrzSlVh",
        "colab_type": "text"
      },
      "source": [
        "dengan porsi Train 70% Test 30%"
      ]
    },
    {
      "cell_type": "code",
      "metadata": {
        "id": "nDBuFC8LYubH",
        "colab_type": "code",
        "colab": {}
      },
      "source": [
        "x_train, x_test, y_train, y_test = train_test_split(dataset, label, test_size=0.3, random_state = 0)"
      ],
      "execution_count": 0,
      "outputs": []
    },
    {
      "cell_type": "markdown",
      "metadata": {
        "id": "oH2H0CcdSqlC",
        "colab_type": "text"
      },
      "source": [
        "## Training Process"
      ]
    },
    {
      "cell_type": "markdown",
      "metadata": {
        "id": "BhFc3bEmSuVG",
        "colab_type": "text"
      },
      "source": [
        "proses pembentukan model dengan metode Naive bayes"
      ]
    },
    {
      "cell_type": "code",
      "metadata": {
        "id": "rv9yF2HPY2TK",
        "colab_type": "code",
        "outputId": "78c1ed26-12f3-4223-c7d7-7c5ac6fa7721",
        "colab": {
          "base_uri": "https://localhost:8080/",
          "height": 34
        }
      },
      "source": [
        "model = GaussianNB()\n",
        "model.fit(x_train,y_train)\n",
        "\n",
        "y_predict = model.predict(x_test)\n",
        "\n",
        "# print(y_predict)\n",
        "y_predict"
      ],
      "execution_count": 18,
      "outputs": [
        {
          "output_type": "execute_result",
          "data": {
            "text/plain": [
              "array([3, 2, 2, ..., 3, 3, 1])"
            ]
          },
          "metadata": {
            "tags": []
          },
          "execution_count": 18
        }
      ]
    },
    {
      "cell_type": "code",
      "metadata": {
        "id": "jkcYSarLbOAv",
        "colab_type": "code",
        "outputId": "3fde774d-c7b3-4a94-cc79-434b037789f1",
        "colab": {
          "base_uri": "https://localhost:8080/",
          "height": 34
        }
      },
      "source": [
        "print(\"Akurasi Model : \",metrics.accuracy_score(y_test,y_predict))"
      ],
      "execution_count": 19,
      "outputs": [
        {
          "output_type": "stream",
          "text": [
            "Akurasi Model :  0.8047045951859956\n"
          ],
          "name": "stdout"
        }
      ]
    }
  ]
}