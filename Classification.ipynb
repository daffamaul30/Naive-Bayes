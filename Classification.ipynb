{
  "nbformat": 4,
  "nbformat_minor": 0,
  "metadata": {
    "colab": {
      "name": "Classification.ipynb",
      "provenance": [],
      "collapsed_sections": [
        "R2XsSANxlGSL"
      ],
      "include_colab_link": true
    },
    "kernelspec": {
      "name": "python3",
      "display_name": "Python 3"
    },
    "accelerator": "GPU"
  },
  "cells": [
    {
      "cell_type": "markdown",
      "metadata": {
        "id": "view-in-github",
        "colab_type": "text"
      },
      "source": [
        "<a href=\"https://colab.research.google.com/github/daffamaul30/Naive-Bayes/blob/master/Classification.ipynb\" target=\"_parent\"><img src=\"https://colab.research.google.com/assets/colab-badge.svg\" alt=\"Open In Colab\"/></a>"
      ]
    },
    {
      "cell_type": "code",
      "metadata": {
        "id": "l8lS7WBCbjGC",
        "colab_type": "code",
        "colab": {}
      },
      "source": [
        "import seaborn as sn\n",
        "import pandas as pd\n",
        "from sklearn.model_selection import train_test_split\n",
        "from sklearn.naive_bayes import GaussianNB\n",
        "from sklearn import metrics\n",
        "import matplotlib.pyplot as plt\n",
        "import matplotlib as mpl\n",
        "import seaborn as sns"
      ],
      "execution_count": 0,
      "outputs": []
    },
    {
      "cell_type": "markdown",
      "metadata": {
        "id": "C9Vz8GrkRwuA",
        "colab_type": "text"
      },
      "source": [
        "## Mount & Read File From Drive\n",
        "\n",
        "Bisa dirubah jika tidak ingin membaca file dari drive dengan :\n",
        "\n",
        "\n",
        "dataset = pd.read_csv(\"path or filename(jika dalam satu folder)\")"
      ]
    },
    {
      "cell_type": "code",
      "metadata": {
        "id": "Ue1faIn6tlXO",
        "colab_type": "code",
        "colab": {}
      },
      "source": [
        "from google.colab import drive \n",
        "drive.mount('/content/gdrive')\n",
        "dataset = pd.read_csv(\"gdrive/My Drive/Colab Notebooks/Dataset.csv\")\n",
        "dataset2 = dataset.copy()"
      ],
      "execution_count": 0,
      "outputs": []
    },
    {
      "cell_type": "markdown",
      "metadata": {
        "id": "R2XsSANxlGSL",
        "colab_type": "text"
      },
      "source": [
        "## **Data Exploration**"
      ]
    },
    {
      "cell_type": "code",
      "metadata": {
        "id": "33mI_tIU1-nS",
        "colab_type": "code",
        "colab": {}
      },
      "source": [
        "data = dataset[['skill_dribbling','skill_curve','skill_ball_control','height_cm','weight_kg','age','power_strength','skill_moves']]"
      ],
      "execution_count": 0,
      "outputs": []
    },
    {
      "cell_type": "code",
      "metadata": {
        "id": "DIGC9F42UKwb",
        "colab_type": "code",
        "colab": {}
      },
      "source": [
        "data.head()"
      ],
      "execution_count": 0,
      "outputs": []
    },
    {
      "cell_type": "markdown",
      "metadata": {
        "id": "E6u_E0X6pZ6F",
        "colab_type": "text"
      },
      "source": [
        "1. Melihat dimensi data"
      ]
    },
    {
      "cell_type": "code",
      "metadata": {
        "id": "Gpylk8CSVxnP",
        "colab_type": "code",
        "colab": {}
      },
      "source": [
        "data.shape"
      ],
      "execution_count": 0,
      "outputs": []
    },
    {
      "cell_type": "markdown",
      "metadata": {
        "id": "of_V-7wtpcyX",
        "colab_type": "text"
      },
      "source": [
        "2. Melihat tipe data dari masing-masing kolom"
      ]
    },
    {
      "cell_type": "code",
      "metadata": {
        "id": "qkPtIDKAWZgv",
        "colab_type": "code",
        "colab": {}
      },
      "source": [
        "data.dtypes"
      ],
      "execution_count": 0,
      "outputs": []
    },
    {
      "cell_type": "markdown",
      "metadata": {
        "id": "9EDxM-woQzpS",
        "colab_type": "text"
      },
      "source": [
        "3. Missing Value"
      ]
    },
    {
      "cell_type": "code",
      "metadata": {
        "id": "ogyNNhrBxKLe",
        "colab_type": "code",
        "colab": {}
      },
      "source": [
        "data.describe()"
      ],
      "execution_count": 0,
      "outputs": []
    },
    {
      "cell_type": "code",
      "metadata": {
        "id": "1Buc5cY7CYT6",
        "colab_type": "code",
        "colab": {}
      },
      "source": [
        "print(data.isnull().sum())"
      ],
      "execution_count": 0,
      "outputs": []
    },
    {
      "cell_type": "markdown",
      "metadata": {
        "id": "uvOHxWP-tXEA",
        "colab_type": "text"
      },
      "source": [
        "tidak ada missing value"
      ]
    },
    {
      "cell_type": "markdown",
      "metadata": {
        "id": "9NCz_g2Cnb9g",
        "colab_type": "text"
      },
      "source": [
        "4. Outlier"
      ]
    },
    {
      "cell_type": "code",
      "metadata": {
        "id": "65NKbVdCPA9t",
        "colab_type": "code",
        "colab": {}
      },
      "source": [
        "mpl.rcParams['figure.dpi'] = 150\n",
        "plt.figure(figsize=(60, 60))\n",
        "f, axes = plt.subplots(1, 9)\n",
        "sns.boxplot(y=data[\"skill_dribbling\"], ax=axes[0])\n",
        "sns.boxplot(y=data[\"skill_curve\"], ax=axes[1])\n",
        "sns.boxplot(y=data[\"skill_ball_control\"], ax=axes[2])\n",
        "sns.boxplot(y=data[\"skill_moves\"], ax=axes[3])\n",
        "sns.boxplot(y=dataset2[\"skill_moves\"], ax=axes[4])\n",
        "sns.boxplot(y=dataset2[\"age\"], ax=axes[5])\n",
        "sns.boxplot(y=dataset2[\"weight_kg\"], ax=axes[6])\n",
        "sns.boxplot(y=dataset2[\"height_cm\"], ax=axes[7])\n",
        "sns.boxplot(y=dataset2[\"power_strength\"], ax=axes[8])\n",
        "plt.subplots_adjust(wspace=10)"
      ],
      "execution_count": 0,
      "outputs": []
    },
    {
      "cell_type": "markdown",
      "metadata": {
        "id": "brnKqNWDPSKm",
        "colab_type": "text"
      },
      "source": [
        "outlier ada, tapi masih termasuk data yang wajar. nilai outlier diambil dari quartil, tapi bukan berarti data yang termasuk outlier itu tidak mungkin."
      ]
    },
    {
      "cell_type": "markdown",
      "metadata": {
        "id": "PmfQAW67p1xc",
        "colab_type": "text"
      },
      "source": [
        "5. Distribusi data pada kolom *skill_moves*"
      ]
    },
    {
      "cell_type": "code",
      "metadata": {
        "id": "w5tt8nkfws9T",
        "colab_type": "code",
        "colab": {}
      },
      "source": [
        "dataset.groupby('skill_moves').size()"
      ],
      "execution_count": 0,
      "outputs": []
    },
    {
      "cell_type": "markdown",
      "metadata": {
        "id": "u_JbjmvXqSBk",
        "colab_type": "text"
      },
      "source": [
        "6. Korelasi antar fitur"
      ]
    },
    {
      "cell_type": "code",
      "metadata": {
        "id": "VzLjud88xLyw",
        "colab_type": "code",
        "colab": {}
      },
      "source": [
        "# %matplotlib inline  \n",
        "\n",
        "mpl.rcParams['figure.dpi'] = 80\n",
        "corr = dataset.select_dtypes(include = ['int64']).iloc[:, :].corr()\n",
        "plt.figure(figsize=(10, 10))\n",
        "ax = sns.heatmap(corr, vmax=1, square=True)\n",
        "# ax.set_xticklabels(rotation=30)\n",
        "plt.xticks(rotation=90)\n",
        "plt.yticks(rotation=0)"
      ],
      "execution_count": 0,
      "outputs": []
    },
    {
      "cell_type": "markdown",
      "metadata": {
        "id": "c0TxiGLH4xEq",
        "colab_type": "text"
      },
      "source": [
        "## **Data Preparation**"
      ]
    },
    {
      "cell_type": "markdown",
      "metadata": {
        "id": "kH7-KctA3EYC",
        "colab_type": "text"
      },
      "source": [
        "1. Memilih kolom yang akan digunakan berdasarkan heatmap\n",
        "\n",
        "yang memiliki korelasi tinggi dengan kolom skill_moves"
      ]
    },
    {
      "cell_type": "code",
      "metadata": {
        "id": "_g7XzyuxkWc-",
        "colab_type": "code",
        "colab": {}
      },
      "source": [
        "dataset = data[['skill_dribbling','skill_curve','skill_ball_control','skill_moves']]"
      ],
      "execution_count": 0,
      "outputs": []
    },
    {
      "cell_type": "markdown",
      "metadata": {
        "id": "WpDX9MWwSW-J",
        "colab_type": "text"
      },
      "source": [
        "2. memisahkan kolom \"skill_moves\" (label) dari fitur-fitur yang lain"
      ]
    },
    {
      "cell_type": "code",
      "metadata": {
        "id": "WKtsDsUClJTc",
        "colab_type": "code",
        "colab": {}
      },
      "source": [
        "#skill_moves sbg label\n",
        "label = dataset['skill_moves'].tolist()\n",
        "dataset = dataset.drop(columns=['skill_moves'])\n",
        "# print(dataset)"
      ],
      "execution_count": 0,
      "outputs": []
    },
    {
      "cell_type": "markdown",
      "metadata": {
        "id": "Bk5lOJG6qKGU",
        "colab_type": "text"
      },
      "source": [
        "3. Split data train & data test"
      ]
    },
    {
      "cell_type": "markdown",
      "metadata": {
        "id": "vksLVyrzSlVh",
        "colab_type": "text"
      },
      "source": [
        "dengan porsi Train 70% Test 30%"
      ]
    },
    {
      "cell_type": "code",
      "metadata": {
        "id": "nDBuFC8LYubH",
        "colab_type": "code",
        "colab": {}
      },
      "source": [
        "x_train, x_test, y_train, y_test = train_test_split(dataset, label, test_size=0.3, random_state = 0)"
      ],
      "execution_count": 0,
      "outputs": []
    },
    {
      "cell_type": "markdown",
      "metadata": {
        "id": "oH2H0CcdSqlC",
        "colab_type": "text"
      },
      "source": [
        "## **Pemodelan**"
      ]
    },
    {
      "cell_type": "markdown",
      "metadata": {
        "id": "BhFc3bEmSuVG",
        "colab_type": "text"
      },
      "source": [
        "proses pembentukan model dengan metode Naive bayes"
      ]
    },
    {
      "cell_type": "code",
      "metadata": {
        "id": "rv9yF2HPY2TK",
        "colab_type": "code",
        "colab": {}
      },
      "source": [
        "model = GaussianNB()\n",
        "model.fit(x_train,y_train)\n",
        "\n",
        "y_predict = model.predict(x_test)\n",
        "\n",
        "# print(y_predict)\n",
        "y_predict"
      ],
      "execution_count": 0,
      "outputs": []
    },
    {
      "cell_type": "markdown",
      "metadata": {
        "id": "Ja0cxsTcz_Ls",
        "colab_type": "text"
      },
      "source": [
        "## **EVALUASI**"
      ]
    },
    {
      "cell_type": "markdown",
      "metadata": {
        "id": "fhR60eei0Bop",
        "colab_type": "text"
      },
      "source": [
        "Confusion Matrix"
      ]
    },
    {
      "cell_type": "code",
      "metadata": {
        "id": "f_MtrgX0t-xu",
        "colab_type": "code",
        "colab": {}
      },
      "source": [
        "y_actu = pd.Series(y_test, name='Actual')\n",
        "y_pred = pd.Series(y_predict, name='Predicted')\n",
        "df_confusion = pd.crosstab(y_actu, y_pred)\n",
        "\n",
        "df_confusion"
      ],
      "execution_count": 0,
      "outputs": []
    },
    {
      "cell_type": "markdown",
      "metadata": {
        "id": "b9X5Dujhzv5R",
        "colab_type": "text"
      },
      "source": [
        "Akurasi"
      ]
    },
    {
      "cell_type": "code",
      "metadata": {
        "id": "jkcYSarLbOAv",
        "colab_type": "code",
        "colab": {}
      },
      "source": [
        "print(\"Akurasi Model : \",metrics.accuracy_score(y_test,y_predict))"
      ],
      "execution_count": 0,
      "outputs": []
    }
  ]
}