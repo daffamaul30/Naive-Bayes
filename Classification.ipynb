{
  "nbformat": 4,
  "nbformat_minor": 0,
  "metadata": {
    "colab": {
      "name": "1301174098_Classification.ipynb",
      "provenance": [],
      "collapsed_sections": [
        "R2XsSANxlGSL"
      ]
    },
    "kernelspec": {
      "name": "python3",
      "display_name": "Python 3"
    },
    "accelerator": "GPU"
  },
  "cells": [
    {
      "cell_type": "code",
      "metadata": {
        "id": "l8lS7WBCbjGC",
        "colab_type": "code",
        "colab": {}
      },
      "source": [
        "import seaborn as sn\n",
        "import pandas as pd\n",
        "from sklearn.model_selection import train_test_split\n",
        "from sklearn.naive_bayes import GaussianNB\n",
        "from sklearn import metrics\n",
        "import matplotlib.pyplot as plt\n",
        "import matplotlib as mpl\n",
        "import seaborn as sns"
      ],
      "execution_count": 0,
      "outputs": []
    },
    {
      "cell_type": "markdown",
      "metadata": {
        "id": "C9Vz8GrkRwuA",
        "colab_type": "text"
      },
      "source": [
        "## Mount & Read File From Drive\n",
        "\n",
        "Bisa dirubah jika tidak ingin membaca file dari drive dengan :\n",
        "\n",
        "\n",
        "dataset = pd.read_csv(\"path or filename(jika dalam satu folder)\")"
      ]
    },
    {
      "cell_type": "code",
      "metadata": {
        "id": "Ue1faIn6tlXO",
        "colab_type": "code",
        "outputId": "e80eb0bb-9a2e-4a35-8e8d-b8268a2c64fe",
        "colab": {
          "base_uri": "https://localhost:8080/",
          "height": 35
        }
      },
      "source": [
        "from google.colab import drive \n",
        "drive.mount('/content/gdrive')\n",
        "dataset = pd.read_csv(\"gdrive/My Drive/Colab Notebooks/Dataset.csv\")\n",
        "dataset2 = dataset.copy()"
      ],
      "execution_count": 0,
      "outputs": [
        {
          "output_type": "stream",
          "text": [
            "Drive already mounted at /content/gdrive; to attempt to forcibly remount, call drive.mount(\"/content/gdrive\", force_remount=True).\n"
          ],
          "name": "stdout"
        }
      ]
    },
    {
      "cell_type": "markdown",
      "metadata": {
        "id": "R2XsSANxlGSL",
        "colab_type": "text"
      },
      "source": [
        "## **Data Exploration**"
      ]
    },
    {
      "cell_type": "code",
      "metadata": {
        "id": "33mI_tIU1-nS",
        "colab_type": "code",
        "colab": {}
      },
      "source": [
        "data = dataset[['skill_dribbling','skill_curve','skill_ball_control','height_cm','weight_kg','age','power_strength','skill_moves']]"
      ],
      "execution_count": 0,
      "outputs": []
    },
    {
      "cell_type": "code",
      "metadata": {
        "id": "DIGC9F42UKwb",
        "colab_type": "code",
        "outputId": "e2d8b945-8b4e-4186-a21c-15331157fd05",
        "colab": {
          "base_uri": "https://localhost:8080/",
          "height": 194
        }
      },
      "source": [
        "data.head()"
      ],
      "execution_count": 0,
      "outputs": [
        {
          "output_type": "execute_result",
          "data": {
            "text/html": [
              "<div>\n",
              "<style scoped>\n",
              "    .dataframe tbody tr th:only-of-type {\n",
              "        vertical-align: middle;\n",
              "    }\n",
              "\n",
              "    .dataframe tbody tr th {\n",
              "        vertical-align: top;\n",
              "    }\n",
              "\n",
              "    .dataframe thead th {\n",
              "        text-align: right;\n",
              "    }\n",
              "</style>\n",
              "<table border=\"1\" class=\"dataframe\">\n",
              "  <thead>\n",
              "    <tr style=\"text-align: right;\">\n",
              "      <th></th>\n",
              "      <th>skill_dribbling</th>\n",
              "      <th>skill_curve</th>\n",
              "      <th>skill_ball_control</th>\n",
              "      <th>height_cm</th>\n",
              "      <th>weight_kg</th>\n",
              "      <th>age</th>\n",
              "      <th>power_strength</th>\n",
              "      <th>skill_moves</th>\n",
              "    </tr>\n",
              "  </thead>\n",
              "  <tbody>\n",
              "    <tr>\n",
              "      <th>0</th>\n",
              "      <td>97</td>\n",
              "      <td>93</td>\n",
              "      <td>96</td>\n",
              "      <td>170</td>\n",
              "      <td>72</td>\n",
              "      <td>32</td>\n",
              "      <td>68</td>\n",
              "      <td>4</td>\n",
              "    </tr>\n",
              "    <tr>\n",
              "      <th>1</th>\n",
              "      <td>89</td>\n",
              "      <td>81</td>\n",
              "      <td>92</td>\n",
              "      <td>187</td>\n",
              "      <td>83</td>\n",
              "      <td>34</td>\n",
              "      <td>78</td>\n",
              "      <td>5</td>\n",
              "    </tr>\n",
              "    <tr>\n",
              "      <th>2</th>\n",
              "      <td>96</td>\n",
              "      <td>88</td>\n",
              "      <td>95</td>\n",
              "      <td>175</td>\n",
              "      <td>68</td>\n",
              "      <td>27</td>\n",
              "      <td>49</td>\n",
              "      <td>5</td>\n",
              "    </tr>\n",
              "    <tr>\n",
              "      <th>3</th>\n",
              "      <td>12</td>\n",
              "      <td>13</td>\n",
              "      <td>30</td>\n",
              "      <td>188</td>\n",
              "      <td>87</td>\n",
              "      <td>26</td>\n",
              "      <td>78</td>\n",
              "      <td>1</td>\n",
              "    </tr>\n",
              "    <tr>\n",
              "      <th>4</th>\n",
              "      <td>95</td>\n",
              "      <td>83</td>\n",
              "      <td>94</td>\n",
              "      <td>175</td>\n",
              "      <td>74</td>\n",
              "      <td>28</td>\n",
              "      <td>63</td>\n",
              "      <td>4</td>\n",
              "    </tr>\n",
              "  </tbody>\n",
              "</table>\n",
              "</div>"
            ],
            "text/plain": [
              "   skill_dribbling  skill_curve  ...  power_strength  skill_moves\n",
              "0               97           93  ...              68            4\n",
              "1               89           81  ...              78            5\n",
              "2               96           88  ...              49            5\n",
              "3               12           13  ...              78            1\n",
              "4               95           83  ...              63            4\n",
              "\n",
              "[5 rows x 8 columns]"
            ]
          },
          "metadata": {
            "tags": []
          },
          "execution_count": 146
        }
      ]
    },
    {
      "cell_type": "markdown",
      "metadata": {
        "id": "E6u_E0X6pZ6F",
        "colab_type": "text"
      },
      "source": [
        "1. Melihat dimensi data"
      ]
    },
    {
      "cell_type": "code",
      "metadata": {
        "id": "Gpylk8CSVxnP",
        "colab_type": "code",
        "outputId": "5b901fc2-45f6-447a-9fd2-24e99dae5771",
        "colab": {
          "base_uri": "https://localhost:8080/",
          "height": 35
        }
      },
      "source": [
        "data.shape"
      ],
      "execution_count": 0,
      "outputs": [
        {
          "output_type": "execute_result",
          "data": {
            "text/plain": [
              "(18278, 8)"
            ]
          },
          "metadata": {
            "tags": []
          },
          "execution_count": 147
        }
      ]
    },
    {
      "cell_type": "markdown",
      "metadata": {
        "id": "of_V-7wtpcyX",
        "colab_type": "text"
      },
      "source": [
        "2. Melihat tipe data dari masing-masing kolom"
      ]
    },
    {
      "cell_type": "code",
      "metadata": {
        "id": "qkPtIDKAWZgv",
        "colab_type": "code",
        "outputId": "98be7742-b627-41ae-a87e-0171823a777d",
        "colab": {
          "base_uri": "https://localhost:8080/",
          "height": 177
        }
      },
      "source": [
        "data.dtypes"
      ],
      "execution_count": 0,
      "outputs": [
        {
          "output_type": "execute_result",
          "data": {
            "text/plain": [
              "skill_dribbling       int64\n",
              "skill_curve           int64\n",
              "skill_ball_control    int64\n",
              "height_cm             int64\n",
              "weight_kg             int64\n",
              "age                   int64\n",
              "power_strength        int64\n",
              "skill_moves           int64\n",
              "dtype: object"
            ]
          },
          "metadata": {
            "tags": []
          },
          "execution_count": 148
        }
      ]
    },
    {
      "cell_type": "markdown",
      "metadata": {
        "id": "9EDxM-woQzpS",
        "colab_type": "text"
      },
      "source": [
        "3. Missing Value"
      ]
    },
    {
      "cell_type": "code",
      "metadata": {
        "id": "ogyNNhrBxKLe",
        "colab_type": "code",
        "outputId": "99aa41e0-b08a-46fc-9b2f-94be66bbc4ab",
        "colab": {
          "base_uri": "https://localhost:8080/",
          "height": 282
        }
      },
      "source": [
        "data.describe()"
      ],
      "execution_count": 0,
      "outputs": [
        {
          "output_type": "execute_result",
          "data": {
            "text/html": [
              "<div>\n",
              "<style scoped>\n",
              "    .dataframe tbody tr th:only-of-type {\n",
              "        vertical-align: middle;\n",
              "    }\n",
              "\n",
              "    .dataframe tbody tr th {\n",
              "        vertical-align: top;\n",
              "    }\n",
              "\n",
              "    .dataframe thead th {\n",
              "        text-align: right;\n",
              "    }\n",
              "</style>\n",
              "<table border=\"1\" class=\"dataframe\">\n",
              "  <thead>\n",
              "    <tr style=\"text-align: right;\">\n",
              "      <th></th>\n",
              "      <th>skill_dribbling</th>\n",
              "      <th>skill_curve</th>\n",
              "      <th>skill_ball_control</th>\n",
              "      <th>height_cm</th>\n",
              "      <th>weight_kg</th>\n",
              "      <th>age</th>\n",
              "      <th>power_strength</th>\n",
              "      <th>skill_moves</th>\n",
              "    </tr>\n",
              "  </thead>\n",
              "  <tbody>\n",
              "    <tr>\n",
              "      <th>count</th>\n",
              "      <td>18278.000000</td>\n",
              "      <td>18278.000000</td>\n",
              "      <td>18278.000000</td>\n",
              "      <td>18278.000000</td>\n",
              "      <td>18278.000000</td>\n",
              "      <td>18278.000000</td>\n",
              "      <td>18278.000000</td>\n",
              "      <td>18278.000000</td>\n",
              "    </tr>\n",
              "    <tr>\n",
              "      <th>mean</th>\n",
              "      <td>55.596509</td>\n",
              "      <td>47.325692</td>\n",
              "      <td>58.461976</td>\n",
              "      <td>181.362184</td>\n",
              "      <td>75.276343</td>\n",
              "      <td>25.283291</td>\n",
              "      <td>65.234763</td>\n",
              "      <td>2.368038</td>\n",
              "    </tr>\n",
              "    <tr>\n",
              "      <th>std</th>\n",
              "      <td>18.929118</td>\n",
              "      <td>18.422991</td>\n",
              "      <td>16.741878</td>\n",
              "      <td>6.756961</td>\n",
              "      <td>7.047744</td>\n",
              "      <td>4.656964</td>\n",
              "      <td>12.534811</td>\n",
              "      <td>0.765038</td>\n",
              "    </tr>\n",
              "    <tr>\n",
              "      <th>min</th>\n",
              "      <td>4.000000</td>\n",
              "      <td>6.000000</td>\n",
              "      <td>5.000000</td>\n",
              "      <td>156.000000</td>\n",
              "      <td>50.000000</td>\n",
              "      <td>16.000000</td>\n",
              "      <td>20.000000</td>\n",
              "      <td>1.000000</td>\n",
              "    </tr>\n",
              "    <tr>\n",
              "      <th>25%</th>\n",
              "      <td>50.000000</td>\n",
              "      <td>34.000000</td>\n",
              "      <td>54.000000</td>\n",
              "      <td>177.000000</td>\n",
              "      <td>70.000000</td>\n",
              "      <td>22.000000</td>\n",
              "      <td>58.000000</td>\n",
              "      <td>2.000000</td>\n",
              "    </tr>\n",
              "    <tr>\n",
              "      <th>50%</th>\n",
              "      <td>61.000000</td>\n",
              "      <td>49.000000</td>\n",
              "      <td>63.000000</td>\n",
              "      <td>181.000000</td>\n",
              "      <td>75.000000</td>\n",
              "      <td>25.000000</td>\n",
              "      <td>66.000000</td>\n",
              "      <td>2.000000</td>\n",
              "    </tr>\n",
              "    <tr>\n",
              "      <th>75%</th>\n",
              "      <td>68.000000</td>\n",
              "      <td>62.000000</td>\n",
              "      <td>69.000000</td>\n",
              "      <td>186.000000</td>\n",
              "      <td>80.000000</td>\n",
              "      <td>29.000000</td>\n",
              "      <td>74.000000</td>\n",
              "      <td>3.000000</td>\n",
              "    </tr>\n",
              "    <tr>\n",
              "      <th>max</th>\n",
              "      <td>97.000000</td>\n",
              "      <td>94.000000</td>\n",
              "      <td>96.000000</td>\n",
              "      <td>205.000000</td>\n",
              "      <td>110.000000</td>\n",
              "      <td>42.000000</td>\n",
              "      <td>97.000000</td>\n",
              "      <td>5.000000</td>\n",
              "    </tr>\n",
              "  </tbody>\n",
              "</table>\n",
              "</div>"
            ],
            "text/plain": [
              "       skill_dribbling   skill_curve  ...  power_strength   skill_moves\n",
              "count     18278.000000  18278.000000  ...    18278.000000  18278.000000\n",
              "mean         55.596509     47.325692  ...       65.234763      2.368038\n",
              "std          18.929118     18.422991  ...       12.534811      0.765038\n",
              "min           4.000000      6.000000  ...       20.000000      1.000000\n",
              "25%          50.000000     34.000000  ...       58.000000      2.000000\n",
              "50%          61.000000     49.000000  ...       66.000000      2.000000\n",
              "75%          68.000000     62.000000  ...       74.000000      3.000000\n",
              "max          97.000000     94.000000  ...       97.000000      5.000000\n",
              "\n",
              "[8 rows x 8 columns]"
            ]
          },
          "metadata": {
            "tags": []
          },
          "execution_count": 149
        }
      ]
    },
    {
      "cell_type": "code",
      "metadata": {
        "id": "1Buc5cY7CYT6",
        "colab_type": "code",
        "outputId": "53665db0-fd28-448c-f30d-e868e9ef799a",
        "colab": {
          "base_uri": "https://localhost:8080/",
          "height": 177
        }
      },
      "source": [
        "print(data.isnull().sum())"
      ],
      "execution_count": 0,
      "outputs": [
        {
          "output_type": "stream",
          "text": [
            "skill_dribbling       0\n",
            "skill_curve           0\n",
            "skill_ball_control    0\n",
            "height_cm             0\n",
            "weight_kg             0\n",
            "age                   0\n",
            "power_strength        0\n",
            "skill_moves           0\n",
            "dtype: int64\n"
          ],
          "name": "stdout"
        }
      ]
    },
    {
      "cell_type": "markdown",
      "metadata": {
        "id": "uvOHxWP-tXEA",
        "colab_type": "text"
      },
      "source": [
        "tidak ada missing value"
      ]
    },
    {
      "cell_type": "markdown",
      "metadata": {
        "id": "9NCz_g2Cnb9g",
        "colab_type": "text"
      },
      "source": [
        "4. Outlier"
      ]
    },
    {
      "cell_type": "code",
      "metadata": {
        "id": "65NKbVdCPA9t",
        "colab_type": "code",
        "outputId": "ac729d59-1796-400b-85d9-17fd43bec956",
        "colab": {
          "base_uri": "https://localhost:8080/",
          "height": 532
        }
      },
      "source": [
        "mpl.rcParams['figure.dpi'] = 150\n",
        "plt.figure(figsize=(60, 60))\n",
        "f, axes = plt.subplots(1, 9)\n",
        "sns.boxplot(y=data[\"skill_dribbling\"], ax=axes[0])\n",
        "sns.boxplot(y=data[\"skill_curve\"], ax=axes[1])\n",
        "sns.boxplot(y=data[\"skill_ball_control\"], ax=axes[2])\n",
        "sns.boxplot(y=data[\"skill_moves\"], ax=axes[3])\n",
        "sns.boxplot(y=dataset2[\"skill_moves\"], ax=axes[4])\n",
        "sns.boxplot(y=dataset2[\"age\"], ax=axes[5])\n",
        "sns.boxplot(y=dataset2[\"weight_kg\"], ax=axes[6])\n",
        "sns.boxplot(y=dataset2[\"height_cm\"], ax=axes[7])\n",
        "sns.boxplot(y=dataset2[\"power_strength\"], ax=axes[8])\n",
        "plt.subplots_adjust(wspace=10)"
      ],
      "execution_count": 0,
      "outputs": [
        {
          "output_type": "display_data",
          "data": {
            "text/plain": [
              "<Figure size 9000x9000 with 0 Axes>"
            ]
          },
          "metadata": {
            "tags": []
          }
        },
        {
          "output_type": "display_data",
          "data": {
            "image/png": "[encoded data removed]",
            "text/plain": [
              "<Figure size 900x600 with 9 Axes>"
            ]
          },
          "metadata": {
            "tags": [],
            "needs_background": "light"
          }
        }
      ]
    },
    {
      "cell_type": "markdown",
      "metadata": {
        "id": "brnKqNWDPSKm",
        "colab_type": "text"
      },
      "source": [
        "outlier ada, tapi masih termasuk data yang wajar. nilai outlier diambil dari quartil, tapi bukan berarti data yang termasuk outlier itu tidak mungkin."
      ]
    },
    {
      "cell_type": "markdown",
      "metadata": {
        "id": "PmfQAW67p1xc",
        "colab_type": "text"
      },
      "source": [
        "5. Distribusi data pada kolom *skill_moves*"
      ]
    },
    {
      "cell_type": "code",
      "metadata": {
        "id": "w5tt8nkfws9T",
        "colab_type": "code",
        "outputId": "5049de80-54b1-40fd-8b74-0aa6ef4ae588",
        "colab": {
          "base_uri": "https://localhost:8080/",
          "height": 141
        }
      },
      "source": [
        "dataset.groupby('skill_moves').size()"
      ],
      "execution_count": 0,
      "outputs": [
        {
          "output_type": "execute_result",
          "data": {
            "text/plain": [
              "skill_moves\n",
              "1    2036\n",
              "2    8617\n",
              "3    6536\n",
              "4    1040\n",
              "5      49\n",
              "dtype: int64"
            ]
          },
          "metadata": {
            "tags": []
          },
          "execution_count": 152
        }
      ]
    },
    {
      "cell_type": "markdown",
      "metadata": {
        "id": "u_JbjmvXqSBk",
        "colab_type": "text"
      },
      "source": [
        "6. Korelasi antar fitur"
      ]
    },
    {
      "cell_type": "code",
      "metadata": {
        "id": "VzLjud88xLyw",
        "colab_type": "code",
        "outputId": "38325045-7301-4598-c4de-b8b6aa51e928",
        "colab": {
          "base_uri": "https://localhost:8080/",
          "height": 722
        }
      },
      "source": [
        "# %matplotlib inline  \n",
        "\n",
        "mpl.rcParams['figure.dpi'] = 80\n",
        "corr = dataset.select_dtypes(include = ['int64']).iloc[:, :].corr()\n",
        "plt.figure(figsize=(10, 10))\n",
        "ax = sns.heatmap(corr, vmax=1, square=True)\n",
        "# ax.set_xticklabels(rotation=30)\n",
        "plt.xticks(rotation=90)\n",
        "plt.yticks(rotation=0)"
      ],
      "execution_count": 0,
      "outputs": [
        {
          "output_type": "execute_result",
          "data": {
            "text/plain": [
              "(array([0.5, 1.5, 2.5, 3.5, 4.5, 5.5, 6.5, 7.5]),\n",
              " <a list of 8 Text major ticklabel objects>)"
            ]
          },
          "metadata": {
            "tags": []
          },
          "execution_count": 153
        },
        {
          "output_type": "display_data",
          "data": {
            "image/png": "[encoded data removed]",
            "text/plain": [
              "<Figure size 800x800 with 2 Axes>"
            ]
          },
          "metadata": {
            "tags": [],
            "needs_background": "light"
          }
        }
      ]
    },
    {
      "cell_type": "markdown",
      "metadata": {
        "id": "7cN-xsWO4M4Z",
        "colab_type": "text"
      },
      "source": [
        "## **Model 1**"
      ]
    },
    {
      "cell_type": "markdown",
      "metadata": {
        "id": "c0TxiGLH4xEq",
        "colab_type": "text"
      },
      "source": [
        "## **Data Preparation**"
      ]
    },
    {
      "cell_type": "markdown",
      "metadata": {
        "id": "kH7-KctA3EYC",
        "colab_type": "text"
      },
      "source": [
        "1. Memilih kolom yang akan digunakan berdasarkan heatmap\n",
        "\n",
        "yang memiliki korelasi tinggi dengan kolom skill_moves"
      ]
    },
    {
      "cell_type": "code",
      "metadata": {
        "id": "_g7XzyuxkWc-",
        "colab_type": "code",
        "colab": {}
      },
      "source": [
        "dataset = data[['skill_dribbling','skill_curve','skill_ball_control','skill_moves']]"
      ],
      "execution_count": 0,
      "outputs": []
    },
    {
      "cell_type": "markdown",
      "metadata": {
        "id": "WpDX9MWwSW-J",
        "colab_type": "text"
      },
      "source": [
        "2. memisahkan kolom \"skill_moves\" (label) dari fitur-fitur yang lain"
      ]
    },
    {
      "cell_type": "code",
      "metadata": {
        "id": "WKtsDsUClJTc",
        "colab_type": "code",
        "colab": {}
      },
      "source": [
        "#skill_moves sbg label\n",
        "label = dataset['skill_moves'].tolist()\n",
        "dataset = dataset.drop(columns=['skill_moves'])\n",
        "# print(dataset)"
      ],
      "execution_count": 0,
      "outputs": []
    },
    {
      "cell_type": "markdown",
      "metadata": {
        "id": "Bk5lOJG6qKGU",
        "colab_type": "text"
      },
      "source": [
        "3. Split data train & data test"
      ]
    },
    {
      "cell_type": "markdown",
      "metadata": {
        "id": "vksLVyrzSlVh",
        "colab_type": "text"
      },
      "source": [
        "dengan porsi Train 70% Test 30%"
      ]
    },
    {
      "cell_type": "code",
      "metadata": {
        "id": "nDBuFC8LYubH",
        "colab_type": "code",
        "colab": {}
      },
      "source": [
        "x_train, x_test, y_train, y_test = train_test_split(dataset, label, test_size=0.3, random_state = 0)"
      ],
      "execution_count": 0,
      "outputs": []
    },
    {
      "cell_type": "markdown",
      "metadata": {
        "id": "oH2H0CcdSqlC",
        "colab_type": "text"
      },
      "source": [
        "## **Pemodelan**"
      ]
    },
    {
      "cell_type": "markdown",
      "metadata": {
        "id": "BhFc3bEmSuVG",
        "colab_type": "text"
      },
      "source": [
        "proses pembentukan model dengan metode Naive bayes"
      ]
    },
    {
      "cell_type": "code",
      "metadata": {
        "id": "rv9yF2HPY2TK",
        "colab_type": "code",
        "outputId": "9c93e2eb-bb9d-4e79-fa88-f1a92ce08b7a",
        "colab": {
          "base_uri": "https://localhost:8080/",
          "height": 35
        }
      },
      "source": [
        "model = GaussianNB()\n",
        "model.fit(x_train,y_train)\n",
        "\n",
        "y_predict = model.predict(x_test)\n",
        "\n",
        "# print(y_predict)\n",
        "y_predict"
      ],
      "execution_count": 0,
      "outputs": [
        {
          "output_type": "execute_result",
          "data": {
            "text/plain": [
              "array([3, 2, 2, ..., 3, 3, 1])"
            ]
          },
          "metadata": {
            "tags": []
          },
          "execution_count": 157
        }
      ]
    },
    {
      "cell_type": "markdown",
      "metadata": {
        "id": "Ja0cxsTcz_Ls",
        "colab_type": "text"
      },
      "source": [
        "## **EVALUASI**"
      ]
    },
    {
      "cell_type": "markdown",
      "metadata": {
        "id": "fhR60eei0Bop",
        "colab_type": "text"
      },
      "source": [
        "Confusion Matrix"
      ]
    },
    {
      "cell_type": "code",
      "metadata": {
        "id": "f_MtrgX0t-xu",
        "colab_type": "code",
        "outputId": "318ef639-2e3c-4710-ea32-973241d5c92a",
        "colab": {
          "base_uri": "https://localhost:8080/",
          "height": 223
        }
      },
      "source": [
        "y_actu = pd.Series(y_test, name='Actual')\n",
        "y_pred = pd.Series(y_predict, name='Predicted')\n",
        "df_confusion = pd.crosstab(y_actu, y_pred)\n",
        "\n",
        "df_confusion"
      ],
      "execution_count": 0,
      "outputs": [
        {
          "output_type": "execute_result",
          "data": {
            "text/html": [
              "<div>\n",
              "<style scoped>\n",
              "    .dataframe tbody tr th:only-of-type {\n",
              "        vertical-align: middle;\n",
              "    }\n",
              "\n",
              "    .dataframe tbody tr th {\n",
              "        vertical-align: top;\n",
              "    }\n",
              "\n",
              "    .dataframe thead th {\n",
              "        text-align: right;\n",
              "    }\n",
              "</style>\n",
              "<table border=\"1\" class=\"dataframe\">\n",
              "  <thead>\n",
              "    <tr style=\"text-align: right;\">\n",
              "      <th>Predicted</th>\n",
              "      <th>1</th>\n",
              "      <th>2</th>\n",
              "      <th>3</th>\n",
              "      <th>4</th>\n",
              "      <th>5</th>\n",
              "    </tr>\n",
              "    <tr>\n",
              "      <th>Actual</th>\n",
              "      <th></th>\n",
              "      <th></th>\n",
              "      <th></th>\n",
              "      <th></th>\n",
              "      <th></th>\n",
              "    </tr>\n",
              "  </thead>\n",
              "  <tbody>\n",
              "    <tr>\n",
              "      <th>1</th>\n",
              "      <td>593</td>\n",
              "      <td>8</td>\n",
              "      <td>0</td>\n",
              "      <td>0</td>\n",
              "      <td>0</td>\n",
              "    </tr>\n",
              "    <tr>\n",
              "      <th>2</th>\n",
              "      <td>14</td>\n",
              "      <td>2078</td>\n",
              "      <td>537</td>\n",
              "      <td>1</td>\n",
              "      <td>0</td>\n",
              "    </tr>\n",
              "    <tr>\n",
              "      <th>3</th>\n",
              "      <td>0</td>\n",
              "      <td>193</td>\n",
              "      <td>1571</td>\n",
              "      <td>174</td>\n",
              "      <td>1</td>\n",
              "    </tr>\n",
              "    <tr>\n",
              "      <th>4</th>\n",
              "      <td>0</td>\n",
              "      <td>0</td>\n",
              "      <td>123</td>\n",
              "      <td>167</td>\n",
              "      <td>13</td>\n",
              "    </tr>\n",
              "    <tr>\n",
              "      <th>5</th>\n",
              "      <td>0</td>\n",
              "      <td>0</td>\n",
              "      <td>0</td>\n",
              "      <td>7</td>\n",
              "      <td>4</td>\n",
              "    </tr>\n",
              "  </tbody>\n",
              "</table>\n",
              "</div>"
            ],
            "text/plain": [
              "Predicted    1     2     3    4   5\n",
              "Actual                             \n",
              "1          593     8     0    0   0\n",
              "2           14  2078   537    1   0\n",
              "3            0   193  1571  174   1\n",
              "4            0     0   123  167  13\n",
              "5            0     0     0    7   4"
            ]
          },
          "metadata": {
            "tags": []
          },
          "execution_count": 158
        }
      ]
    },
    {
      "cell_type": "markdown",
      "metadata": {
        "id": "b9X5Dujhzv5R",
        "colab_type": "text"
      },
      "source": [
        "Akurasi"
      ]
    },
    {
      "cell_type": "code",
      "metadata": {
        "id": "jkcYSarLbOAv",
        "colab_type": "code",
        "outputId": "d96b40d5-dc77-45ae-d08f-3adaf2059fc1",
        "colab": {
          "base_uri": "https://localhost:8080/",
          "height": 35
        }
      },
      "source": [
        "print(\"Akurasi Model : \",metrics.accuracy_score(y_test,y_predict))"
      ],
      "execution_count": 0,
      "outputs": [
        {
          "output_type": "stream",
          "text": [
            "Akurasi Model :  0.8047045951859956\n"
          ],
          "name": "stdout"
        }
      ]
    },
    {
      "cell_type": "markdown",
      "metadata": {
        "id": "XmCyi8vaUMwQ",
        "colab_type": "text"
      },
      "source": [
        "Model Pertama Selesai"
      ]
    },
    {
      "cell_type": "markdown",
      "metadata": {
        "id": "Fc_TBkNZxbP_",
        "colab_type": "text"
      },
      "source": [
        "## **Model 2**"
      ]
    },
    {
      "cell_type": "markdown",
      "metadata": {
        "colab_type": "text",
        "id": "tB1nSox55FoC"
      },
      "source": [
        "## **Data Preparation**"
      ]
    },
    {
      "cell_type": "markdown",
      "metadata": {
        "colab_type": "text",
        "id": "NaRxBTGL5FoE"
      },
      "source": [
        "1. Memilih kolom yang akan digunakan berdasarkan heatmap\n",
        "\n",
        "yang memiliki korelasi rendah dengan kolom skill_moves"
      ]
    },
    {
      "cell_type": "code",
      "metadata": {
        "colab_type": "code",
        "id": "KDFlImOQ5FoF",
        "colab": {}
      },
      "source": [
        "dataset2 = data[['height_cm','weight_kg','age','power_strength','skill_moves']]"
      ],
      "execution_count": 0,
      "outputs": []
    },
    {
      "cell_type": "markdown",
      "metadata": {
        "colab_type": "text",
        "id": "lWfF7rmM5FoH"
      },
      "source": [
        "2. memisahkan kolom \"skill_moves\" (label) dari fitur-fitur yang lain"
      ]
    },
    {
      "cell_type": "code",
      "metadata": {
        "colab_type": "code",
        "id": "3oKZOeHw5FoH",
        "colab": {}
      },
      "source": [
        "#skill_moves sbg label\n",
        "label = dataset2['skill_moves'].tolist()\n",
        "dataset2 = dataset2.drop(columns=['skill_moves'])\n",
        "# print(dataset)"
      ],
      "execution_count": 0,
      "outputs": []
    },
    {
      "cell_type": "markdown",
      "metadata": {
        "colab_type": "text",
        "id": "DPkEakfG5FoJ"
      },
      "source": [
        "3. Split data train & data test"
      ]
    },
    {
      "cell_type": "markdown",
      "metadata": {
        "colab_type": "text",
        "id": "mM0o_mi55FoJ"
      },
      "source": [
        "dengan porsi Train 70% Test 30%"
      ]
    },
    {
      "cell_type": "code",
      "metadata": {
        "colab_type": "code",
        "id": "dZmj-A4z5FoJ",
        "colab": {}
      },
      "source": [
        "x_train, x_test, y_train, y_test = train_test_split(dataset2, label, test_size=0.3, random_state = 0)"
      ],
      "execution_count": 0,
      "outputs": []
    },
    {
      "cell_type": "markdown",
      "metadata": {
        "id": "x_i51Ufpzhg7",
        "colab_type": "text"
      },
      "source": [
        "## **Pemodelan**"
      ]
    },
    {
      "cell_type": "code",
      "metadata": {
        "id": "QaDGDALExuRh",
        "colab_type": "code",
        "outputId": "2377eb80-9714-4856-e0c0-52f319b58a1d",
        "colab": {
          "base_uri": "https://localhost:8080/",
          "height": 35
        }
      },
      "source": [
        "model = GaussianNB()\n",
        "model.fit(x_train,y_train)\n",
        "\n",
        "y_predict = model.predict(x_test)\n",
        "\n",
        "# print(y_predict)\n",
        "y_predict"
      ],
      "execution_count": 0,
      "outputs": [
        {
          "output_type": "execute_result",
          "data": {
            "text/plain": [
              "array([3, 2, 2, ..., 2, 2, 2])"
            ]
          },
          "metadata": {
            "tags": []
          },
          "execution_count": 164
        }
      ]
    },
    {
      "cell_type": "markdown",
      "metadata": {
        "id": "_Z-omLH2zmN-",
        "colab_type": "text"
      },
      "source": [
        "## **Evaluasi**"
      ]
    },
    {
      "cell_type": "markdown",
      "metadata": {
        "id": "Vt-61wnXzpZ-",
        "colab_type": "text"
      },
      "source": [
        "Confusion Matrix"
      ]
    },
    {
      "cell_type": "code",
      "metadata": {
        "id": "h2ZUNwo3xwg2",
        "colab_type": "code",
        "outputId": "dd5f6a77-6138-42ff-d2e6-d643bbc2c9ba",
        "colab": {
          "base_uri": "https://localhost:8080/",
          "height": 223
        }
      },
      "source": [
        "y_actu = pd.Series(y_test, name='Actual')\n",
        "y_pred = pd.Series(y_predict, name='Predicted')\n",
        "df_confusion = pd.crosstab(y_actu, y_pred)\n",
        "\n",
        "df_confusion"
      ],
      "execution_count": 0,
      "outputs": [
        {
          "output_type": "execute_result",
          "data": {
            "text/html": [
              "<div>\n",
              "<style scoped>\n",
              "    .dataframe tbody tr th:only-of-type {\n",
              "        vertical-align: middle;\n",
              "    }\n",
              "\n",
              "    .dataframe tbody tr th {\n",
              "        vertical-align: top;\n",
              "    }\n",
              "\n",
              "    .dataframe thead th {\n",
              "        text-align: right;\n",
              "    }\n",
              "</style>\n",
              "<table border=\"1\" class=\"dataframe\">\n",
              "  <thead>\n",
              "    <tr style=\"text-align: right;\">\n",
              "      <th>Predicted</th>\n",
              "      <th>1</th>\n",
              "      <th>2</th>\n",
              "      <th>3</th>\n",
              "    </tr>\n",
              "    <tr>\n",
              "      <th>Actual</th>\n",
              "      <th></th>\n",
              "      <th></th>\n",
              "      <th></th>\n",
              "    </tr>\n",
              "  </thead>\n",
              "  <tbody>\n",
              "    <tr>\n",
              "      <th>1</th>\n",
              "      <td>283</td>\n",
              "      <td>280</td>\n",
              "      <td>38</td>\n",
              "    </tr>\n",
              "    <tr>\n",
              "      <th>2</th>\n",
              "      <td>62</td>\n",
              "      <td>1689</td>\n",
              "      <td>879</td>\n",
              "    </tr>\n",
              "    <tr>\n",
              "      <th>3</th>\n",
              "      <td>17</td>\n",
              "      <td>810</td>\n",
              "      <td>1112</td>\n",
              "    </tr>\n",
              "    <tr>\n",
              "      <th>4</th>\n",
              "      <td>3</td>\n",
              "      <td>86</td>\n",
              "      <td>214</td>\n",
              "    </tr>\n",
              "    <tr>\n",
              "      <th>5</th>\n",
              "      <td>0</td>\n",
              "      <td>3</td>\n",
              "      <td>8</td>\n",
              "    </tr>\n",
              "  </tbody>\n",
              "</table>\n",
              "</div>"
            ],
            "text/plain": [
              "Predicted    1     2     3\n",
              "Actual                    \n",
              "1          283   280    38\n",
              "2           62  1689   879\n",
              "3           17   810  1112\n",
              "4            3    86   214\n",
              "5            0     3     8"
            ]
          },
          "metadata": {
            "tags": []
          },
          "execution_count": 165
        }
      ]
    },
    {
      "cell_type": "markdown",
      "metadata": {
        "id": "hQmTh34gztxq",
        "colab_type": "text"
      },
      "source": [
        "Akurasi"
      ]
    },
    {
      "cell_type": "code",
      "metadata": {
        "id": "cHhIJ9gWx0Fr",
        "colab_type": "code",
        "outputId": "fd19dde9-f206-4b22-9340-06728e55bf02",
        "colab": {
          "base_uri": "https://localhost:8080/",
          "height": 35
        }
      },
      "source": [
        "print(\"Akurasi Model : \",metrics.accuracy_score(y_test,y_predict))"
      ],
      "execution_count": 0,
      "outputs": [
        {
          "output_type": "stream",
          "text": [
            "Akurasi Model :  0.562363238512035\n"
          ],
          "name": "stdout"
        }
      ]
    },
    {
      "cell_type": "markdown",
      "metadata": {
        "id": "xPgXExiMUO6K",
        "colab_type": "text"
      },
      "source": [
        "Model Kedua Selesai"
      ]
    }
  ]
}